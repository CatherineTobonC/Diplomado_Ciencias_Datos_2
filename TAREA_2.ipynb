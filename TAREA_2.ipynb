{
 "cells": [
  {
   "cell_type": "markdown",
   "metadata": {},
   "source": [
    "# <span style=\"color:mediumturquoise;class:bold;font-size: 42px\"><center>**Ciencia de Datos**</left></span>"
   ]
  },
  {
   "cell_type": "markdown",
   "metadata": {},
   "source": [
    "<span style=\"color:slateblue;font-size: 28px; text-align: right;\">**Catherine Tobón Cruz**</right></span>"
   ]
  },
  {
   "cell_type": "markdown",
   "metadata": {},
   "source": [
    "Meteoróloga. Experiencia de 10 años en Pronóstico del Tiempo. Adicionalmente 2 años en Análisis en información referente a Incendios forestales y Sistemas de Alertas. "
   ]
  },
  {
   "cell_type": "markdown",
   "metadata": {},
   "source": [
    "![Planeta](data:image/jpeg;base64,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)"
   ]
  },
  {
   "cell_type": "markdown",
   "metadata": {},
   "source": [
    "### <span style=\"color:slateblue;font-size: 28px\"><left>**Big-Data**</center></span>"
   ]
  },
  {
   "cell_type": "markdown",
   "metadata": {},
   "source": [
    "El **avance de la tecnología** en la última década ha ayudado a desarrollar nuevas formas, instrumentos y técnias para la medición de una gran cantidad de variables en diferentes campos, como la Ciencia y la Industria, de ahí que se haya empezado a generar no solo la curiosidad sino la necesidad por el análisis de estos. Al gran volúmen de esta información es lo que se le conoce como Big Data."
   ]
  },
  {
   "cell_type": "markdown",
   "metadata": {},
   "source": [
    "### <span style=\"color:slateblue;font-size: 18px\"><left>**Big Data en Meteorología**</center></span>"
   ]
  },
  {
   "cell_type": "markdown",
   "metadata": {},
   "source": [
    "No es un área que se quede atrás en este sentido. Hablando de una de sus fuentes básicas de información *las Estaciones Meteorológicas* de donde se obtienen a nivel diario un número de datos importante. \n",
    "\n",
    "##### Caso Colombia\n",
    "\n",
    "El número de estas Estaciones en el territorio nacional (más de 2000, sin embargo, no siempre están todas en funcionamiento) en algunos sectores del territorio son insuficientes, sin embargo, se genera un gran número de información, ya que, los datos tienen frecuencia diaria, en otros casos horaria y diez-minutales (algunos de estos datos pueden ser obtenidos de forma gratuita desde la página oficial del Instituto de Hidrología, Meteorología y Estudios Ambientales ([IDEAM](http://dhime.ideam.gov.co/atencionciudadano/)))\n",
    "\n"
   ]
  },
  {
   "cell_type": "markdown",
   "metadata": {},
   "source": [
    "### <span style=\"color:slateblue;font-size: 18px\"><left>**Análisis particular de Datos Meteorológicos**</center></span>"
   ]
  },
  {
   "cell_type": "markdown",
   "metadata": {},
   "source": [
    "Dos de las varibales con las que más se trabaja en Meteorología son Temperatura (°C) y Precipitación (mm). En algunos análisis particulares no es necesario conocer el valor puntual de esta última, solo se hace necesario saber si llovió o no llovió, es decir, si hubo o no un dato registrado pro encima de cierto valor, por la Estación Meteorológica (Instrumento: Pluviómetro/Pluviógrafo). A través, de un código sencillo es posible determinar este tipo de tarea:"
   ]
  },
  {
   "cell_type": "code",
   "execution_count": 25,
   "metadata": {},
   "outputs": [
    {
     "name": "stdout",
     "output_type": "stream",
     "text": [
      "precipitacion_hoy = True\n"
     ]
    }
   ],
   "source": [
    "precipitacion_hoy = 15\n",
    "ppt_binomial = (precipitacion_hoy>0.4)\n",
    "print('precipitacion_hoy =', ppt_binomial)"
   ]
  }
 ],
 "metadata": {
  "celltoolbar": "Tags",
  "colab": {
   "collapsed_sections": [
    "-MlSHN16Bg8-",
    "scclT03UHVrm",
    "qAqnr4i70sLy",
    "IUFSujLR2-Rl",
    "ivDxEY5J3EXW",
    "6YvlIG-G6o2Z",
    "Tjq46qsVQ1F9",
    "GPiu4RLJUzVj",
    "dTnOKPXFUzVs",
    "P8eMjQnDI1Eg",
    "i9HdDU49UzWK",
    "y012FyjJPR1O",
    "iDjs_eszUzW0",
    "IpXs0nQNOWpv",
    "2xb_O2GUUzXF"
   ],
   "name": "Intro_Python.ipynb",
   "provenance": []
  },
  "kernelspec": {
   "display_name": "Python 3 (ipykernel)",
   "language": "python",
   "name": "python3"
  },
  "language_info": {
   "codemirror_mode": {
    "name": "ipython",
    "version": 3
   },
   "file_extension": ".py",
   "mimetype": "text/x-python",
   "name": "python",
   "nbconvert_exporter": "python",
   "pygments_lexer": "ipython3",
   "version": "3.9.16"
  },
  "toc": {
   "base_numbering": 1,
   "nav_menu": {},
   "number_sections": false,
   "sideBar": true,
   "skip_h1_title": false,
   "title_cell": "Table of Contents",
   "title_sidebar": "Contents",
   "toc_cell": false,
   "toc_position": {},
   "toc_section_display": true,
   "toc_window_display": false
  },
  "vscode": {
   "interpreter": {
    "hash": "cf92aa13fedf815d5c8dd192b8d835913fde3e8bc926b2a0ad6cc74ef2ba3ca2"
   }
  }
 },
 "nbformat": 4,
 "nbformat_minor": 4
}
